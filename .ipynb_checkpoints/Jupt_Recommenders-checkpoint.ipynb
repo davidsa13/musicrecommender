{
 "cells": [
  {
   "cell_type": "code",
   "execution_count": 1,
   "metadata": {},
   "outputs": [],
   "source": [
    "import sqlite3\n",
    "from sqlite3 import Error\n",
    "import pandas as pd\n",
    "from sklearn.model_selection import train_test_split\n",
    "import time\n",
    "from sklearn.externals import joblib\n",
    "import Recommenders as Recommenders\n",
    "import numpy as np"
   ]
  },
  {
   "cell_type": "markdown",
   "metadata": {},
   "source": [
    "# Connect to Database\n",
    "#### Retrieve data from database and store the data in pandas dataframes\n",
    "##### Metadata table in database is stored in df_metadate\n",
    "##### Subsetplaycount table in database is stored in df_playcount"
   ]
  },
  {
   "cell_type": "code",
   "execution_count": 2,
   "metadata": {},
   "outputs": [
    {
     "ename": "FileNotFoundError",
     "evalue": "File b'c:\\\\users\\\\david\\\\597project\\\\metadata.csv' does not exist",
     "output_type": "error",
     "traceback": [
      "\u001b[1;31m---------------------------------------------------------------------------\u001b[0m",
      "\u001b[1;31mFileNotFoundError\u001b[0m                         Traceback (most recent call last)",
      "\u001b[1;32m<ipython-input-2-19a804d9ca63>\u001b[0m in \u001b[0;36m<module>\u001b[1;34m()\u001b[0m\n\u001b[0;32m      3\u001b[0m \u001b[0mdf_playcount\u001b[0m \u001b[1;33m=\u001b[0m \u001b[0mpd\u001b[0m\u001b[1;33m.\u001b[0m\u001b[0mread_sql_query\u001b[0m\u001b[1;33m(\u001b[0m\u001b[1;34m\"SELECT * FROM subsetplaycount\"\u001b[0m\u001b[1;33m,\u001b[0m\u001b[0mconn\u001b[0m\u001b[1;33m)\u001b[0m\u001b[1;33m\u001b[0m\u001b[0m\n\u001b[0;32m      4\u001b[0m \u001b[0mconn\u001b[0m\u001b[1;33m.\u001b[0m\u001b[0mclose\u001b[0m\u001b[1;33m(\u001b[0m\u001b[1;33m)\u001b[0m\u001b[1;33m\u001b[0m\u001b[0m\n\u001b[1;32m----> 5\u001b[1;33m \u001b[0mp\u001b[0m\u001b[1;33m=\u001b[0m \u001b[0mpd\u001b[0m\u001b[1;33m.\u001b[0m\u001b[0mread_csv\u001b[0m\u001b[1;33m(\u001b[0m\u001b[1;34mr\"c:\\users\\david\\597project\\metadata.csv\"\u001b[0m\u001b[1;33m)\u001b[0m\u001b[1;33m\u001b[0m\u001b[0m\n\u001b[0m",
      "\u001b[1;32m~\\Anaconda3\\lib\\site-packages\\pandas\\io\\parsers.py\u001b[0m in \u001b[0;36mparser_f\u001b[1;34m(filepath_or_buffer, sep, delimiter, header, names, index_col, usecols, squeeze, prefix, mangle_dupe_cols, dtype, engine, converters, true_values, false_values, skipinitialspace, skiprows, nrows, na_values, keep_default_na, na_filter, verbose, skip_blank_lines, parse_dates, infer_datetime_format, keep_date_col, date_parser, dayfirst, iterator, chunksize, compression, thousands, decimal, lineterminator, quotechar, quoting, escapechar, comment, encoding, dialect, tupleize_cols, error_bad_lines, warn_bad_lines, skipfooter, skip_footer, doublequote, delim_whitespace, as_recarray, compact_ints, use_unsigned, low_memory, buffer_lines, memory_map, float_precision)\u001b[0m\n\u001b[0;32m    707\u001b[0m                     skip_blank_lines=skip_blank_lines)\n\u001b[0;32m    708\u001b[0m \u001b[1;33m\u001b[0m\u001b[0m\n\u001b[1;32m--> 709\u001b[1;33m         \u001b[1;32mreturn\u001b[0m \u001b[0m_read\u001b[0m\u001b[1;33m(\u001b[0m\u001b[0mfilepath_or_buffer\u001b[0m\u001b[1;33m,\u001b[0m \u001b[0mkwds\u001b[0m\u001b[1;33m)\u001b[0m\u001b[1;33m\u001b[0m\u001b[0m\n\u001b[0m\u001b[0;32m    710\u001b[0m \u001b[1;33m\u001b[0m\u001b[0m\n\u001b[0;32m    711\u001b[0m     \u001b[0mparser_f\u001b[0m\u001b[1;33m.\u001b[0m\u001b[0m__name__\u001b[0m \u001b[1;33m=\u001b[0m \u001b[0mname\u001b[0m\u001b[1;33m\u001b[0m\u001b[0m\n",
      "\u001b[1;32m~\\Anaconda3\\lib\\site-packages\\pandas\\io\\parsers.py\u001b[0m in \u001b[0;36m_read\u001b[1;34m(filepath_or_buffer, kwds)\u001b[0m\n\u001b[0;32m    447\u001b[0m \u001b[1;33m\u001b[0m\u001b[0m\n\u001b[0;32m    448\u001b[0m     \u001b[1;31m# Create the parser.\u001b[0m\u001b[1;33m\u001b[0m\u001b[1;33m\u001b[0m\u001b[0m\n\u001b[1;32m--> 449\u001b[1;33m     \u001b[0mparser\u001b[0m \u001b[1;33m=\u001b[0m \u001b[0mTextFileReader\u001b[0m\u001b[1;33m(\u001b[0m\u001b[0mfilepath_or_buffer\u001b[0m\u001b[1;33m,\u001b[0m \u001b[1;33m**\u001b[0m\u001b[0mkwds\u001b[0m\u001b[1;33m)\u001b[0m\u001b[1;33m\u001b[0m\u001b[0m\n\u001b[0m\u001b[0;32m    450\u001b[0m \u001b[1;33m\u001b[0m\u001b[0m\n\u001b[0;32m    451\u001b[0m     \u001b[1;32mif\u001b[0m \u001b[0mchunksize\u001b[0m \u001b[1;32mor\u001b[0m \u001b[0miterator\u001b[0m\u001b[1;33m:\u001b[0m\u001b[1;33m\u001b[0m\u001b[0m\n",
      "\u001b[1;32m~\\Anaconda3\\lib\\site-packages\\pandas\\io\\parsers.py\u001b[0m in \u001b[0;36m__init__\u001b[1;34m(self, f, engine, **kwds)\u001b[0m\n\u001b[0;32m    816\u001b[0m             \u001b[0mself\u001b[0m\u001b[1;33m.\u001b[0m\u001b[0moptions\u001b[0m\u001b[1;33m[\u001b[0m\u001b[1;34m'has_index_names'\u001b[0m\u001b[1;33m]\u001b[0m \u001b[1;33m=\u001b[0m \u001b[0mkwds\u001b[0m\u001b[1;33m[\u001b[0m\u001b[1;34m'has_index_names'\u001b[0m\u001b[1;33m]\u001b[0m\u001b[1;33m\u001b[0m\u001b[0m\n\u001b[0;32m    817\u001b[0m \u001b[1;33m\u001b[0m\u001b[0m\n\u001b[1;32m--> 818\u001b[1;33m         \u001b[0mself\u001b[0m\u001b[1;33m.\u001b[0m\u001b[0m_make_engine\u001b[0m\u001b[1;33m(\u001b[0m\u001b[0mself\u001b[0m\u001b[1;33m.\u001b[0m\u001b[0mengine\u001b[0m\u001b[1;33m)\u001b[0m\u001b[1;33m\u001b[0m\u001b[0m\n\u001b[0m\u001b[0;32m    819\u001b[0m \u001b[1;33m\u001b[0m\u001b[0m\n\u001b[0;32m    820\u001b[0m     \u001b[1;32mdef\u001b[0m \u001b[0mclose\u001b[0m\u001b[1;33m(\u001b[0m\u001b[0mself\u001b[0m\u001b[1;33m)\u001b[0m\u001b[1;33m:\u001b[0m\u001b[1;33m\u001b[0m\u001b[0m\n",
      "\u001b[1;32m~\\Anaconda3\\lib\\site-packages\\pandas\\io\\parsers.py\u001b[0m in \u001b[0;36m_make_engine\u001b[1;34m(self, engine)\u001b[0m\n\u001b[0;32m   1047\u001b[0m     \u001b[1;32mdef\u001b[0m \u001b[0m_make_engine\u001b[0m\u001b[1;33m(\u001b[0m\u001b[0mself\u001b[0m\u001b[1;33m,\u001b[0m \u001b[0mengine\u001b[0m\u001b[1;33m=\u001b[0m\u001b[1;34m'c'\u001b[0m\u001b[1;33m)\u001b[0m\u001b[1;33m:\u001b[0m\u001b[1;33m\u001b[0m\u001b[0m\n\u001b[0;32m   1048\u001b[0m         \u001b[1;32mif\u001b[0m \u001b[0mengine\u001b[0m \u001b[1;33m==\u001b[0m \u001b[1;34m'c'\u001b[0m\u001b[1;33m:\u001b[0m\u001b[1;33m\u001b[0m\u001b[0m\n\u001b[1;32m-> 1049\u001b[1;33m             \u001b[0mself\u001b[0m\u001b[1;33m.\u001b[0m\u001b[0m_engine\u001b[0m \u001b[1;33m=\u001b[0m \u001b[0mCParserWrapper\u001b[0m\u001b[1;33m(\u001b[0m\u001b[0mself\u001b[0m\u001b[1;33m.\u001b[0m\u001b[0mf\u001b[0m\u001b[1;33m,\u001b[0m \u001b[1;33m**\u001b[0m\u001b[0mself\u001b[0m\u001b[1;33m.\u001b[0m\u001b[0moptions\u001b[0m\u001b[1;33m)\u001b[0m\u001b[1;33m\u001b[0m\u001b[0m\n\u001b[0m\u001b[0;32m   1050\u001b[0m         \u001b[1;32melse\u001b[0m\u001b[1;33m:\u001b[0m\u001b[1;33m\u001b[0m\u001b[0m\n\u001b[0;32m   1051\u001b[0m             \u001b[1;32mif\u001b[0m \u001b[0mengine\u001b[0m \u001b[1;33m==\u001b[0m \u001b[1;34m'python'\u001b[0m\u001b[1;33m:\u001b[0m\u001b[1;33m\u001b[0m\u001b[0m\n",
      "\u001b[1;32m~\\Anaconda3\\lib\\site-packages\\pandas\\io\\parsers.py\u001b[0m in \u001b[0;36m__init__\u001b[1;34m(self, src, **kwds)\u001b[0m\n\u001b[0;32m   1693\u001b[0m         \u001b[0mkwds\u001b[0m\u001b[1;33m[\u001b[0m\u001b[1;34m'allow_leading_cols'\u001b[0m\u001b[1;33m]\u001b[0m \u001b[1;33m=\u001b[0m \u001b[0mself\u001b[0m\u001b[1;33m.\u001b[0m\u001b[0mindex_col\u001b[0m \u001b[1;32mis\u001b[0m \u001b[1;32mnot\u001b[0m \u001b[1;32mFalse\u001b[0m\u001b[1;33m\u001b[0m\u001b[0m\n\u001b[0;32m   1694\u001b[0m \u001b[1;33m\u001b[0m\u001b[0m\n\u001b[1;32m-> 1695\u001b[1;33m         \u001b[0mself\u001b[0m\u001b[1;33m.\u001b[0m\u001b[0m_reader\u001b[0m \u001b[1;33m=\u001b[0m \u001b[0mparsers\u001b[0m\u001b[1;33m.\u001b[0m\u001b[0mTextReader\u001b[0m\u001b[1;33m(\u001b[0m\u001b[0msrc\u001b[0m\u001b[1;33m,\u001b[0m \u001b[1;33m**\u001b[0m\u001b[0mkwds\u001b[0m\u001b[1;33m)\u001b[0m\u001b[1;33m\u001b[0m\u001b[0m\n\u001b[0m\u001b[0;32m   1696\u001b[0m \u001b[1;33m\u001b[0m\u001b[0m\n\u001b[0;32m   1697\u001b[0m         \u001b[1;31m# XXX\u001b[0m\u001b[1;33m\u001b[0m\u001b[1;33m\u001b[0m\u001b[0m\n",
      "\u001b[1;32mpandas/_libs/parsers.pyx\u001b[0m in \u001b[0;36mpandas._libs.parsers.TextReader.__cinit__\u001b[1;34m()\u001b[0m\n",
      "\u001b[1;32mpandas/_libs/parsers.pyx\u001b[0m in \u001b[0;36mpandas._libs.parsers.TextReader._setup_parser_source\u001b[1;34m()\u001b[0m\n",
      "\u001b[1;31mFileNotFoundError\u001b[0m: File b'c:\\\\users\\\\david\\\\597project\\\\metadata.csv' does not exist"
     ]
    }
   ],
   "source": [
    "conn = sqlite3.connect(r\"C:\\Users\\David\\musicrec\\msdb.db\")\n",
    "df_metadata = pd.read_sql_query(\"SELECT * FROM metadata\",conn)\n",
    "df_playcount = pd.read_sql_query(\"SELECT * FROM subsetplaycount\",conn)\n",
    "conn.close()\n",
    "p= pd.read_csv(r\"c:\\users\\david\\597project\\metadata.csv\")"
   ]
  },
  {
   "cell_type": "markdown",
   "metadata": {},
   "source": [
    "#### len() indicate the number of rows in the dataframe"
   ]
  },
  {
   "cell_type": "code",
   "execution_count": 3,
   "metadata": {},
   "outputs": [
    {
     "data": {
      "text/plain": [
       "10000"
      ]
     },
     "execution_count": 3,
     "metadata": {},
     "output_type": "execute_result"
    }
   ],
   "source": [
    "len(df_metadata)"
   ]
  },
  {
   "cell_type": "code",
   "execution_count": 4,
   "metadata": {},
   "outputs": [
    {
     "data": {
      "text/plain": [
       "772661"
      ]
     },
     "execution_count": 4,
     "metadata": {},
     "output_type": "execute_result"
    }
   ],
   "source": [
    "len(df_playcount)"
   ]
  },
  {
   "cell_type": "markdown",
   "metadata": {},
   "source": [
    "### head() function display the first 5 rows in the dataframe and attributes"
   ]
  },
  {
   "cell_type": "code",
   "execution_count": 5,
   "metadata": {},
   "outputs": [
    {
     "data": {
      "text/html": [
       "<div>\n",
       "<style scoped>\n",
       "    .dataframe tbody tr th:only-of-type {\n",
       "        vertical-align: middle;\n",
       "    }\n",
       "\n",
       "    .dataframe tbody tr th {\n",
       "        vertical-align: top;\n",
       "    }\n",
       "\n",
       "    .dataframe thead th {\n",
       "        text-align: right;\n",
       "    }\n",
       "</style>\n",
       "<table border=\"1\" class=\"dataframe\">\n",
       "  <thead>\n",
       "    <tr style=\"text-align: right;\">\n",
       "      <th></th>\n",
       "      <th>song_id</th>\n",
       "      <th>title</th>\n",
       "      <th>artist_id</th>\n",
       "      <th>artist_name</th>\n",
       "    </tr>\n",
       "  </thead>\n",
       "  <tbody>\n",
       "    <tr>\n",
       "      <th>0</th>\n",
       "      <td>SOVLGJY12A8C13FBED</td>\n",
       "      <td>Deep Sea Creature</td>\n",
       "      <td>ARMQHX71187B9890D3</td>\n",
       "      <td>Mastodon</td>\n",
       "    </tr>\n",
       "    <tr>\n",
       "      <th>1</th>\n",
       "      <td>SOGDQZK12A8C13F37C</td>\n",
       "      <td>No Quieras Marcharte</td>\n",
       "      <td>AR2PT4M1187FB55B1A</td>\n",
       "      <td>Los Chichos</td>\n",
       "    </tr>\n",
       "    <tr>\n",
       "      <th>2</th>\n",
       "      <td>SODMVJR12A6D4F985D</td>\n",
       "      <td>If I...</td>\n",
       "      <td>ARDI88R1187B98DAB2</td>\n",
       "      <td>Foxy Brown</td>\n",
       "    </tr>\n",
       "    <tr>\n",
       "      <th>3</th>\n",
       "      <td>SOIWBDR12A8C13A4AC</td>\n",
       "      <td>Werther - Lyric Drama in four Acts/Act I/Alors...</td>\n",
       "      <td>ARUKJUP12086C14589</td>\n",
       "      <td>Ramón Vargas;Vladimir Jurowski</td>\n",
       "    </tr>\n",
       "    <tr>\n",
       "      <th>4</th>\n",
       "      <td>SOHCCIA12AC907577F</td>\n",
       "      <td>Ad Te Clamamus Exsvles Mortva Liberi</td>\n",
       "      <td>ARZEWUR1187FB53DC8</td>\n",
       "      <td>Enthroned</td>\n",
       "    </tr>\n",
       "  </tbody>\n",
       "</table>\n",
       "</div>"
      ],
      "text/plain": [
       "              song_id                                              title  \\\n",
       "0  SOVLGJY12A8C13FBED                                  Deep Sea Creature   \n",
       "1  SOGDQZK12A8C13F37C                               No Quieras Marcharte   \n",
       "2  SODMVJR12A6D4F985D                                            If I...   \n",
       "3  SOIWBDR12A8C13A4AC  Werther - Lyric Drama in four Acts/Act I/Alors...   \n",
       "4  SOHCCIA12AC907577F               Ad Te Clamamus Exsvles Mortva Liberi   \n",
       "\n",
       "            artist_id                     artist_name  \n",
       "0  ARMQHX71187B9890D3                        Mastodon  \n",
       "1  AR2PT4M1187FB55B1A                     Los Chichos  \n",
       "2  ARDI88R1187B98DAB2                      Foxy Brown  \n",
       "3  ARUKJUP12086C14589  Ramón Vargas;Vladimir Jurowski  \n",
       "4  ARZEWUR1187FB53DC8                       Enthroned  "
      ]
     },
     "execution_count": 5,
     "metadata": {},
     "output_type": "execute_result"
    }
   ],
   "source": [
    "df_metadata.head()"
   ]
  },
  {
   "cell_type": "code",
   "execution_count": 6,
   "metadata": {},
   "outputs": [
    {
     "data": {
      "text/html": [
       "<div>\n",
       "<style scoped>\n",
       "    .dataframe tbody tr th:only-of-type {\n",
       "        vertical-align: middle;\n",
       "    }\n",
       "\n",
       "    .dataframe tbody tr th {\n",
       "        vertical-align: top;\n",
       "    }\n",
       "\n",
       "    .dataframe thead th {\n",
       "        text-align: right;\n",
       "    }\n",
       "</style>\n",
       "<table border=\"1\" class=\"dataframe\">\n",
       "  <thead>\n",
       "    <tr style=\"text-align: right;\">\n",
       "      <th></th>\n",
       "      <th>user_id</th>\n",
       "      <th>song_id</th>\n",
       "      <th>listen_time</th>\n",
       "    </tr>\n",
       "  </thead>\n",
       "  <tbody>\n",
       "    <tr>\n",
       "      <th>0</th>\n",
       "      <td>b80344d063b5ccb3212f76538f3d9e43d87dca9e</td>\n",
       "      <td>SOWEZSI12A81C21CE6</td>\n",
       "      <td>1</td>\n",
       "    </tr>\n",
       "    <tr>\n",
       "      <th>1</th>\n",
       "      <td>4bd88bfb25263a75bbdd467e74018f4ae570e5df</td>\n",
       "      <td>SODCXXY12AB0187452</td>\n",
       "      <td>2</td>\n",
       "    </tr>\n",
       "    <tr>\n",
       "      <th>2</th>\n",
       "      <td>4bd88bfb25263a75bbdd467e74018f4ae570e5df</td>\n",
       "      <td>SOWPAXV12A67ADA046</td>\n",
       "      <td>18</td>\n",
       "    </tr>\n",
       "    <tr>\n",
       "      <th>3</th>\n",
       "      <td>b64cdd1a0bd907e5e00b39e345194768e330d652</td>\n",
       "      <td>SOLXDDC12A6701FBFD</td>\n",
       "      <td>1</td>\n",
       "    </tr>\n",
       "    <tr>\n",
       "      <th>4</th>\n",
       "      <td>b64cdd1a0bd907e5e00b39e345194768e330d652</td>\n",
       "      <td>SONJBQX12A6D4F8382</td>\n",
       "      <td>4</td>\n",
       "    </tr>\n",
       "  </tbody>\n",
       "</table>\n",
       "</div>"
      ],
      "text/plain": [
       "                                    user_id             song_id  listen_time\n",
       "0  b80344d063b5ccb3212f76538f3d9e43d87dca9e  SOWEZSI12A81C21CE6            1\n",
       "1  4bd88bfb25263a75bbdd467e74018f4ae570e5df  SODCXXY12AB0187452            2\n",
       "2  4bd88bfb25263a75bbdd467e74018f4ae570e5df  SOWPAXV12A67ADA046           18\n",
       "3  b64cdd1a0bd907e5e00b39e345194768e330d652  SOLXDDC12A6701FBFD            1\n",
       "4  b64cdd1a0bd907e5e00b39e345194768e330d652  SONJBQX12A6D4F8382            4"
      ]
     },
     "execution_count": 6,
     "metadata": {},
     "output_type": "execute_result"
    }
   ],
   "source": [
    "df_playcount.head()"
   ]
  },
  {
   "cell_type": "markdown",
   "metadata": {},
   "source": [
    "### Merge both dataframes into one dataframe  on 'song_id' attributes "
   ]
  },
  {
   "cell_type": "code",
   "execution_count": 7,
   "metadata": {},
   "outputs": [],
   "source": [
    "df_merge = pd.merge(df_playcount, df_metadata.drop_duplicates(['song_id']), on='song_id', how='left')"
   ]
  },
  {
   "cell_type": "markdown",
   "metadata": {},
   "source": [
    "### df_merge include the user_id who have listen to each songs as well as the listen_time each user listen to a song"
   ]
  },
  {
   "cell_type": "code",
   "execution_count": 8,
   "metadata": {},
   "outputs": [
    {
     "data": {
      "text/plain": [
       "772661"
      ]
     },
     "execution_count": 8,
     "metadata": {},
     "output_type": "execute_result"
    }
   ],
   "source": [
    "len(df_merge)"
   ]
  },
  {
   "cell_type": "code",
   "execution_count": 9,
   "metadata": {},
   "outputs": [
    {
     "data": {
      "text/html": [
       "<div>\n",
       "<style scoped>\n",
       "    .dataframe tbody tr th:only-of-type {\n",
       "        vertical-align: middle;\n",
       "    }\n",
       "\n",
       "    .dataframe tbody tr th {\n",
       "        vertical-align: top;\n",
       "    }\n",
       "\n",
       "    .dataframe thead th {\n",
       "        text-align: right;\n",
       "    }\n",
       "</style>\n",
       "<table border=\"1\" class=\"dataframe\">\n",
       "  <thead>\n",
       "    <tr style=\"text-align: right;\">\n",
       "      <th></th>\n",
       "      <th>user_id</th>\n",
       "      <th>song_id</th>\n",
       "      <th>listen_time</th>\n",
       "      <th>title</th>\n",
       "      <th>artist_id</th>\n",
       "      <th>artist_name</th>\n",
       "    </tr>\n",
       "  </thead>\n",
       "  <tbody>\n",
       "    <tr>\n",
       "      <th>0</th>\n",
       "      <td>b80344d063b5ccb3212f76538f3d9e43d87dca9e</td>\n",
       "      <td>SOWEZSI12A81C21CE6</td>\n",
       "      <td>1</td>\n",
       "      <td>Tu Quieres Volver</td>\n",
       "      <td>AR2UQQ51187B9AC816</td>\n",
       "      <td>Gipsy Kings</td>\n",
       "    </tr>\n",
       "    <tr>\n",
       "      <th>1</th>\n",
       "      <td>4bd88bfb25263a75bbdd467e74018f4ae570e5df</td>\n",
       "      <td>SODCXXY12AB0187452</td>\n",
       "      <td>2</td>\n",
       "      <td>Freaxxx</td>\n",
       "      <td>ARXLMH011C8A415658</td>\n",
       "      <td>brokeNCYDE</td>\n",
       "    </tr>\n",
       "    <tr>\n",
       "      <th>2</th>\n",
       "      <td>4bd88bfb25263a75bbdd467e74018f4ae570e5df</td>\n",
       "      <td>SOWPAXV12A67ADA046</td>\n",
       "      <td>18</td>\n",
       "      <td>Push It</td>\n",
       "      <td>ARUQ6301187FB54EBA</td>\n",
       "      <td>Salt-N-Pepa</td>\n",
       "    </tr>\n",
       "    <tr>\n",
       "      <th>3</th>\n",
       "      <td>b64cdd1a0bd907e5e00b39e345194768e330d652</td>\n",
       "      <td>SOLXDDC12A6701FBFD</td>\n",
       "      <td>1</td>\n",
       "      <td>I'm Back</td>\n",
       "      <td>ARTH9041187FB43E1F</td>\n",
       "      <td>Eminem</td>\n",
       "    </tr>\n",
       "    <tr>\n",
       "      <th>4</th>\n",
       "      <td>b64cdd1a0bd907e5e00b39e345194768e330d652</td>\n",
       "      <td>SONJBQX12A6D4F8382</td>\n",
       "      <td>4</td>\n",
       "      <td>Da Funk</td>\n",
       "      <td>ARF8HTQ1187B9AE693</td>\n",
       "      <td>Daft Punk</td>\n",
       "    </tr>\n",
       "  </tbody>\n",
       "</table>\n",
       "</div>"
      ],
      "text/plain": [
       "                                    user_id             song_id  listen_time  \\\n",
       "0  b80344d063b5ccb3212f76538f3d9e43d87dca9e  SOWEZSI12A81C21CE6            1   \n",
       "1  4bd88bfb25263a75bbdd467e74018f4ae570e5df  SODCXXY12AB0187452            2   \n",
       "2  4bd88bfb25263a75bbdd467e74018f4ae570e5df  SOWPAXV12A67ADA046           18   \n",
       "3  b64cdd1a0bd907e5e00b39e345194768e330d652  SOLXDDC12A6701FBFD            1   \n",
       "4  b64cdd1a0bd907e5e00b39e345194768e330d652  SONJBQX12A6D4F8382            4   \n",
       "\n",
       "               title           artist_id  artist_name  \n",
       "0  Tu Quieres Volver  AR2UQQ51187B9AC816  Gipsy Kings  \n",
       "1            Freaxxx  ARXLMH011C8A415658   brokeNCYDE  \n",
       "2            Push It  ARUQ6301187FB54EBA  Salt-N-Pepa  \n",
       "3           I'm Back  ARTH9041187FB43E1F       Eminem  \n",
       "4            Da Funk  ARF8HTQ1187B9AE693    Daft Punk  "
      ]
     },
     "execution_count": 9,
     "metadata": {},
     "output_type": "execute_result"
    }
   ],
   "source": [
    "df_merge.head()"
   ]
  },
  {
   "cell_type": "markdown",
   "metadata": {},
   "source": [
    "## Concatenate the 'title' and 'artist_name' columns into one column:'song'"
   ]
  },
  {
   "cell_type": "code",
   "execution_count": 10,
   "metadata": {},
   "outputs": [],
   "source": [
    "df_merge['song']=df_merge['title'].map(str)+ \"-\"+df_merge['artist_name']"
   ]
  },
  {
   "cell_type": "markdown",
   "metadata": {},
   "source": [
    "### Group the items in df_merge by 'song' column to aggregate the 'listen_time' column to count all listening activity by all users for each song"
   ]
  },
  {
   "cell_type": "code",
   "execution_count": 11,
   "metadata": {},
   "outputs": [],
   "source": [
    "song_grouped = df_merge.groupby(['song']).agg({'listen_time': 'count'}).reset_index()"
   ]
  },
  {
   "cell_type": "markdown",
   "metadata": {},
   "source": [
    "### Create a percentage column to disply the listen_time in percentage"
   ]
  },
  {
   "cell_type": "code",
   "execution_count": 12,
   "metadata": {},
   "outputs": [],
   "source": [
    "grouped_sum = song_grouped['listen_time'].sum()\n",
    "song_grouped['percentage']=song_grouped['listen_time'].div(grouped_sum)*100"
   ]
  },
  {
   "cell_type": "markdown",
   "metadata": {},
   "source": [
    "### sort the dataframe by the highest listen_time"
   ]
  },
  {
   "cell_type": "code",
   "execution_count": 13,
   "metadata": {},
   "outputs": [],
   "source": [
    "sort_songs = song_grouped.sort_values(['listen_time','song'], ascending=[0,1])"
   ]
  },
  {
   "cell_type": "code",
   "execution_count": 14,
   "metadata": {},
   "outputs": [
    {
     "data": {
      "text/html": [
       "<div>\n",
       "<style scoped>\n",
       "    .dataframe tbody tr th:only-of-type {\n",
       "        vertical-align: middle;\n",
       "    }\n",
       "\n",
       "    .dataframe tbody tr th {\n",
       "        vertical-align: top;\n",
       "    }\n",
       "\n",
       "    .dataframe thead th {\n",
       "        text-align: right;\n",
       "    }\n",
       "</style>\n",
       "<table border=\"1\" class=\"dataframe\">\n",
       "  <thead>\n",
       "    <tr style=\"text-align: right;\">\n",
       "      <th></th>\n",
       "      <th>song</th>\n",
       "      <th>listen_time</th>\n",
       "      <th>percentage</th>\n",
       "    </tr>\n",
       "  </thead>\n",
       "  <tbody>\n",
       "    <tr>\n",
       "      <th>2161</th>\n",
       "      <td>Nothin' On You [feat. Bruno Mars] (Album Versi...</td>\n",
       "      <td>30117</td>\n",
       "      <td>3.897828</td>\n",
       "    </tr>\n",
       "    <tr>\n",
       "      <th>2911</th>\n",
       "      <td>Supermassive Black Hole (Album Version)-Muse</td>\n",
       "      <td>28286</td>\n",
       "      <td>3.660855</td>\n",
       "    </tr>\n",
       "    <tr>\n",
       "      <th>1284</th>\n",
       "      <td>Hips Don't Lie (featuring Wyclef Jean)-Shakira...</td>\n",
       "      <td>16128</td>\n",
       "      <td>2.087332</td>\n",
       "    </tr>\n",
       "    <tr>\n",
       "      <th>611</th>\n",
       "      <td>Crawling (Album Version)-Linkin Park</td>\n",
       "      <td>14729</td>\n",
       "      <td>1.906269</td>\n",
       "    </tr>\n",
       "    <tr>\n",
       "      <th>769</th>\n",
       "      <td>Don't Panic-Coldplay</td>\n",
       "      <td>11610</td>\n",
       "      <td>1.502599</td>\n",
       "    </tr>\n",
       "    <tr>\n",
       "      <th>162</th>\n",
       "      <td>Angie (1993 Digital Remaster)-The Rolling Stones</td>\n",
       "      <td>11027</td>\n",
       "      <td>1.427146</td>\n",
       "    </tr>\n",
       "    <tr>\n",
       "      <th>615</th>\n",
       "      <td>Crazy-Aerosmith</td>\n",
       "      <td>10371</td>\n",
       "      <td>1.342245</td>\n",
       "    </tr>\n",
       "    <tr>\n",
       "      <th>233</th>\n",
       "      <td>Baby Boy [feat. Beyonce]-Sean Paul</td>\n",
       "      <td>8797</td>\n",
       "      <td>1.138533</td>\n",
       "    </tr>\n",
       "    <tr>\n",
       "      <th>487</th>\n",
       "      <td>Check On It-Beyoncé feat. Slim Thug</td>\n",
       "      <td>8516</td>\n",
       "      <td>1.102165</td>\n",
       "    </tr>\n",
       "    <tr>\n",
       "      <th>14</th>\n",
       "      <td>15 Step-Radiohead</td>\n",
       "      <td>7765</td>\n",
       "      <td>1.004969</td>\n",
       "    </tr>\n",
       "  </tbody>\n",
       "</table>\n",
       "</div>"
      ],
      "text/plain": [
       "                                                   song  listen_time  \\\n",
       "2161  Nothin' On You [feat. Bruno Mars] (Album Versi...        30117   \n",
       "2911       Supermassive Black Hole (Album Version)-Muse        28286   \n",
       "1284  Hips Don't Lie (featuring Wyclef Jean)-Shakira...        16128   \n",
       "611                Crawling (Album Version)-Linkin Park        14729   \n",
       "769                                Don't Panic-Coldplay        11610   \n",
       "162    Angie (1993 Digital Remaster)-The Rolling Stones        11027   \n",
       "615                                     Crazy-Aerosmith        10371   \n",
       "233                  Baby Boy [feat. Beyonce]-Sean Paul         8797   \n",
       "487                 Check On It-Beyoncé feat. Slim Thug         8516   \n",
       "14                                    15 Step-Radiohead         7765   \n",
       "\n",
       "      percentage  \n",
       "2161    3.897828  \n",
       "2911    3.660855  \n",
       "1284    2.087332  \n",
       "611     1.906269  \n",
       "769     1.502599  \n",
       "162     1.427146  \n",
       "615     1.342245  \n",
       "233     1.138533  \n",
       "487     1.102165  \n",
       "14      1.004969  "
      ]
     },
     "execution_count": 14,
     "metadata": {},
     "output_type": "execute_result"
    }
   ],
   "source": [
    "sort_songs.head(10)"
   ]
  },
  {
   "cell_type": "markdown",
   "metadata": {},
   "source": [
    "### Gather all unique users and songs in the dataframe"
   ]
  },
  {
   "cell_type": "code",
   "execution_count": 15,
   "metadata": {},
   "outputs": [],
   "source": [
    "users = df_merge['user_id'].unique()\n",
    "songs = df_merge['song'].unique()"
   ]
  },
  {
   "cell_type": "markdown",
   "metadata": {},
   "source": [
    "### Create a train_data and test_data using the train_test_split function from scikit-learn"
   ]
  },
  {
   "cell_type": "code",
   "execution_count": 17,
   "metadata": {},
   "outputs": [],
   "source": [
    "train_data, test_data = train_test_split(df_merge, test_size=.20, random_state=0)"
   ]
  },
  {
   "cell_type": "markdown",
   "metadata": {},
   "source": [
    "### Create instance of the popluarity recommender system and make recommendation for a user"
   ]
  },
  {
   "cell_type": "code",
   "execution_count": 17,
   "metadata": {},
   "outputs": [],
   "source": [
    "pm = Recommenders.popularity_rec()"
   ]
  },
  {
   "cell_type": "code",
   "execution_count": 18,
   "metadata": {},
   "outputs": [],
   "source": [
    "pm.create(train_data,'user_id','song')"
   ]
  },
  {
   "cell_type": "code",
   "execution_count": 19,
   "metadata": {},
   "outputs": [],
   "source": [
    "user_id = users[4]"
   ]
  },
  {
   "cell_type": "markdown",
   "metadata": {},
   "source": [
    "### Recommendation in the popularity models is not personalize, so the recommendation is a general recommendation based on trending songs"
   ]
  },
  {
   "cell_type": "code",
   "execution_count": 21,
   "metadata": {},
   "outputs": [
    {
     "data": {
      "text/html": [
       "<div>\n",
       "<style scoped>\n",
       "    .dataframe tbody tr th:only-of-type {\n",
       "        vertical-align: middle;\n",
       "    }\n",
       "\n",
       "    .dataframe tbody tr th {\n",
       "        vertical-align: top;\n",
       "    }\n",
       "\n",
       "    .dataframe thead th {\n",
       "        text-align: right;\n",
       "    }\n",
       "</style>\n",
       "<table border=\"1\" class=\"dataframe\">\n",
       "  <thead>\n",
       "    <tr style=\"text-align: right;\">\n",
       "      <th></th>\n",
       "      <th>Rank</th>\n",
       "      <th>song</th>\n",
       "      <th>score</th>\n",
       "    </tr>\n",
       "  </thead>\n",
       "  <tbody>\n",
       "    <tr>\n",
       "      <th>2125</th>\n",
       "      <td>1.0</td>\n",
       "      <td>Nothin' On You [feat. Bruno Mars] (Album Versi...</td>\n",
       "      <td>24214</td>\n",
       "    </tr>\n",
       "    <tr>\n",
       "      <th>2862</th>\n",
       "      <td>2.0</td>\n",
       "      <td>Supermassive Black Hole (Album Version)-Muse</td>\n",
       "      <td>22700</td>\n",
       "    </tr>\n",
       "    <tr>\n",
       "      <th>1262</th>\n",
       "      <td>3.0</td>\n",
       "      <td>Hips Don't Lie (featuring Wyclef Jean)-Shakira...</td>\n",
       "      <td>12863</td>\n",
       "    </tr>\n",
       "    <tr>\n",
       "      <th>599</th>\n",
       "      <td>4.0</td>\n",
       "      <td>Crawling (Album Version)-Linkin Park</td>\n",
       "      <td>11732</td>\n",
       "    </tr>\n",
       "    <tr>\n",
       "      <th>753</th>\n",
       "      <td>5.0</td>\n",
       "      <td>Don't Panic-Coldplay</td>\n",
       "      <td>9290</td>\n",
       "    </tr>\n",
       "    <tr>\n",
       "      <th>157</th>\n",
       "      <td>6.0</td>\n",
       "      <td>Angie (1993 Digital Remaster)-The Rolling Stones</td>\n",
       "      <td>8778</td>\n",
       "    </tr>\n",
       "    <tr>\n",
       "      <th>602</th>\n",
       "      <td>7.0</td>\n",
       "      <td>Crazy-Aerosmith</td>\n",
       "      <td>8232</td>\n",
       "    </tr>\n",
       "    <tr>\n",
       "      <th>228</th>\n",
       "      <td>8.0</td>\n",
       "      <td>Baby Boy [feat. Beyonce]-Sean Paul</td>\n",
       "      <td>7052</td>\n",
       "    </tr>\n",
       "    <tr>\n",
       "      <th>477</th>\n",
       "      <td>9.0</td>\n",
       "      <td>Check On It-Beyoncé feat. Slim Thug</td>\n",
       "      <td>6752</td>\n",
       "    </tr>\n",
       "    <tr>\n",
       "      <th>14</th>\n",
       "      <td>10.0</td>\n",
       "      <td>15 Step-Radiohead</td>\n",
       "      <td>6193</td>\n",
       "    </tr>\n",
       "  </tbody>\n",
       "</table>\n",
       "</div>"
      ],
      "text/plain": [
       "      Rank                                               song  score\n",
       "2125   1.0  Nothin' On You [feat. Bruno Mars] (Album Versi...  24214\n",
       "2862   2.0       Supermassive Black Hole (Album Version)-Muse  22700\n",
       "1262   3.0  Hips Don't Lie (featuring Wyclef Jean)-Shakira...  12863\n",
       "599    4.0               Crawling (Album Version)-Linkin Park  11732\n",
       "753    5.0                               Don't Panic-Coldplay   9290\n",
       "157    6.0   Angie (1993 Digital Remaster)-The Rolling Stones   8778\n",
       "602    7.0                                    Crazy-Aerosmith   8232\n",
       "228    8.0                 Baby Boy [feat. Beyonce]-Sean Paul   7052\n",
       "477    9.0                Check On It-Beyoncé feat. Slim Thug   6752\n",
       "14    10.0                                  15 Step-Radiohead   6193"
      ]
     },
     "execution_count": 21,
     "metadata": {},
     "output_type": "execute_result"
    }
   ],
   "source": [
    "pm.recommend(user_id)"
   ]
  },
  {
   "cell_type": "markdown",
   "metadata": {},
   "source": [
    "# Collaborative Filtering Recommendation\n",
    "### create an instance of the collaborative model"
   ]
  },
  {
   "cell_type": "code",
   "execution_count": 18,
   "metadata": {},
   "outputs": [],
   "source": [
    "cr_model = Recommenders.collab_rec()\n",
    "cr_model.create(train_data, 'user_id', 'song_id','title', 'artist_name')"
   ]
  },
  {
   "cell_type": "markdown",
   "metadata": {},
   "source": [
    "### Get user_id and retrieve all songs listen by user"
   ]
  },
  {
   "cell_type": "code",
   "execution_count": 19,
   "metadata": {},
   "outputs": [],
   "source": [
    "user_id = users[5]\n",
    "user_items = cr_model.get_user_songs(user_id)"
   ]
  },
  {
   "cell_type": "markdown",
   "metadata": {},
   "source": [
    "### All the songs listen by the users disply by the song_id"
   ]
  },
  {
   "cell_type": "code",
   "execution_count": 20,
   "metadata": {},
   "outputs": [
    {
     "name": "stdout",
     "output_type": "stream",
     "text": [
      "SOEBCBI12AF72A154F\n",
      "SOZOEYP12AB0188C9D\n",
      "SOFKTPP12A8C1385CA\n",
      "SOUCKDH12A8C138FF5\n",
      "SOGJPMB12A8C13A9DB\n"
     ]
    }
   ],
   "source": [
    "for user_item in user_items:\n",
    "    print(user_item)"
   ]
  },
  {
   "cell_type": "markdown",
   "metadata": {},
   "source": [
    "### Make recommendation to user\n",
    "### Collaborative Filtering offers a personalize recommendation that is based on similar users as the user"
   ]
  },
  {
   "cell_type": "code",
   "execution_count": 21,
   "metadata": {},
   "outputs": [
    {
     "name": "stdout",
     "output_type": "stream",
     "text": [
      "No. of unique songs for the user: 5\n",
      "No. of unique songs for the user: 3618\n"
     ]
    },
    {
     "data": {
      "text/html": [
       "<div>\n",
       "<style scoped>\n",
       "    .dataframe tbody tr th:only-of-type {\n",
       "        vertical-align: middle;\n",
       "    }\n",
       "\n",
       "    .dataframe tbody tr th {\n",
       "        vertical-align: top;\n",
       "    }\n",
       "\n",
       "    .dataframe thead th {\n",
       "        text-align: right;\n",
       "    }\n",
       "</style>\n",
       "<table border=\"1\" class=\"dataframe\">\n",
       "  <thead>\n",
       "    <tr style=\"text-align: right;\">\n",
       "      <th></th>\n",
       "      <th>title</th>\n",
       "      <th>artist_name</th>\n",
       "      <th>song_id</th>\n",
       "      <th>score</th>\n",
       "      <th>rank</th>\n",
       "    </tr>\n",
       "  </thead>\n",
       "  <tbody>\n",
       "    <tr>\n",
       "      <th>0</th>\n",
       "      <td>Killing</td>\n",
       "      <td>The Rapture</td>\n",
       "      <td>SOITFPA12A670201C6</td>\n",
       "      <td>0.016662</td>\n",
       "      <td>1</td>\n",
       "    </tr>\n",
       "    <tr>\n",
       "      <th>1</th>\n",
       "      <td>The Devil</td>\n",
       "      <td>The Rapture</td>\n",
       "      <td>SOHOOXT12A67ADA073</td>\n",
       "      <td>0.015070</td>\n",
       "      <td>2</td>\n",
       "    </tr>\n",
       "    <tr>\n",
       "      <th>2</th>\n",
       "      <td>One I Love</td>\n",
       "      <td>Coldplay</td>\n",
       "      <td>SOEHTZE12A6310F0F2</td>\n",
       "      <td>0.011560</td>\n",
       "      <td>3</td>\n",
       "    </tr>\n",
       "    <tr>\n",
       "      <th>3</th>\n",
       "      <td>Romantic Rights</td>\n",
       "      <td>Death From Above 1979</td>\n",
       "      <td>SOINDRZ12A6701DAF6</td>\n",
       "      <td>0.009191</td>\n",
       "      <td>4</td>\n",
       "    </tr>\n",
       "    <tr>\n",
       "      <th>4</th>\n",
       "      <td>You Appearing</td>\n",
       "      <td>M83</td>\n",
       "      <td>SODEIVI12A8C13266D</td>\n",
       "      <td>0.008392</td>\n",
       "      <td>5</td>\n",
       "    </tr>\n",
       "    <tr>\n",
       "      <th>5</th>\n",
       "      <td>Driving Home For Christmas</td>\n",
       "      <td>Chris Rea</td>\n",
       "      <td>SODHVES12A6701CE6B</td>\n",
       "      <td>0.008141</td>\n",
       "      <td>6</td>\n",
       "    </tr>\n",
       "    <tr>\n",
       "      <th>6</th>\n",
       "      <td>15 Step</td>\n",
       "      <td>Radiohead</td>\n",
       "      <td>SOSQIHH12A8C13370B</td>\n",
       "      <td>0.007994</td>\n",
       "      <td>7</td>\n",
       "    </tr>\n",
       "    <tr>\n",
       "      <th>7</th>\n",
       "      <td>Supermassive Black Hole (Album Version)</td>\n",
       "      <td>Muse</td>\n",
       "      <td>SOIZLKI12A6D4F7B61</td>\n",
       "      <td>0.007929</td>\n",
       "      <td>8</td>\n",
       "    </tr>\n",
       "    <tr>\n",
       "      <th>8</th>\n",
       "      <td>Crawling (Album Version)</td>\n",
       "      <td>Linkin Park</td>\n",
       "      <td>SOEKSGJ12A67AE227E</td>\n",
       "      <td>0.007813</td>\n",
       "      <td>9</td>\n",
       "    </tr>\n",
       "    <tr>\n",
       "      <th>9</th>\n",
       "      <td>Ragoo</td>\n",
       "      <td>Kings Of Leon</td>\n",
       "      <td>SOZAPQT12A8C142821</td>\n",
       "      <td>0.007410</td>\n",
       "      <td>10</td>\n",
       "    </tr>\n",
       "  </tbody>\n",
       "</table>\n",
       "</div>"
      ],
      "text/plain": [
       "                                     title            artist_name  \\\n",
       "0                                  Killing            The Rapture   \n",
       "1                                The Devil            The Rapture   \n",
       "2                               One I Love               Coldplay   \n",
       "3                          Romantic Rights  Death From Above 1979   \n",
       "4                            You Appearing                    M83   \n",
       "5               Driving Home For Christmas              Chris Rea   \n",
       "6                                  15 Step              Radiohead   \n",
       "7  Supermassive Black Hole (Album Version)                   Muse   \n",
       "8                 Crawling (Album Version)            Linkin Park   \n",
       "9                                    Ragoo          Kings Of Leon   \n",
       "\n",
       "              song_id     score rank  \n",
       "0  SOITFPA12A670201C6  0.016662    1  \n",
       "1  SOHOOXT12A67ADA073  0.015070    2  \n",
       "2  SOEHTZE12A6310F0F2  0.011560    3  \n",
       "3  SOINDRZ12A6701DAF6  0.009191    4  \n",
       "4  SODEIVI12A8C13266D  0.008392    5  \n",
       "5  SODHVES12A6701CE6B  0.008141    6  \n",
       "6  SOSQIHH12A8C13370B  0.007994    7  \n",
       "7  SOIZLKI12A6D4F7B61  0.007929    8  \n",
       "8  SOEKSGJ12A67AE227E  0.007813    9  \n",
       "9  SOZAPQT12A8C142821  0.007410   10  "
      ]
     },
     "execution_count": 21,
     "metadata": {},
     "output_type": "execute_result"
    }
   ],
   "source": [
    "cr_model.recommend(user_id)"
   ]
  },
  {
   "cell_type": "code",
   "execution_count": null,
   "metadata": {},
   "outputs": [],
   "source": [
    "user_id2= users[10]\n",
    "user_items = cr_model.get_user_songs(user_id2)\n",
    "cr_model.recommend(user_id2)"
   ]
  },
  {
   "cell_type": "markdown",
   "metadata": {},
   "source": [
    "# Content-based Filtering Recommendation\n",
    "## Content-based filtering recommend item based on other similar items"
   ]
  },
  {
   "cell_type": "code",
   "execution_count": 22,
   "metadata": {},
   "outputs": [],
   "source": [
    "conn=sqlite3.connect(r'c:\\users\\david\\msdb.db')"
   ]
  },
  {
   "cell_type": "code",
   "execution_count": 23,
   "metadata": {},
   "outputs": [],
   "source": [
    "df_songmbtags= pd.read_sql_query('SELECT * FROM song_mbtag',conn)\n",
    "conn.close()"
   ]
  },
  {
   "cell_type": "markdown",
   "metadata": {},
   "source": [
    "### Connect to database to retrieve mbtag table, mbtag contains genre terms for a song, and store the data in a dataframe: df_songmbtags"
   ]
  },
  {
   "cell_type": "code",
   "execution_count": 24,
   "metadata": {},
   "outputs": [
    {
     "data": {
      "text/html": [
       "<div>\n",
       "<style scoped>\n",
       "    .dataframe tbody tr th:only-of-type {\n",
       "        vertical-align: middle;\n",
       "    }\n",
       "\n",
       "    .dataframe tbody tr th {\n",
       "        vertical-align: top;\n",
       "    }\n",
       "\n",
       "    .dataframe thead th {\n",
       "        text-align: right;\n",
       "    }\n",
       "</style>\n",
       "<table border=\"1\" class=\"dataframe\">\n",
       "  <thead>\n",
       "    <tr style=\"text-align: right;\">\n",
       "      <th></th>\n",
       "      <th>field1</th>\n",
       "      <th>song_id</th>\n",
       "      <th>mbtag</th>\n",
       "      <th>song</th>\n",
       "    </tr>\n",
       "  </thead>\n",
       "  <tbody>\n",
       "    <tr>\n",
       "      <th>0</th>\n",
       "      <td>0</td>\n",
       "      <td>SOVLGJY12A8C13FBED</td>\n",
       "      <td>alternative metal american groove metal heavy ...</td>\n",
       "      <td>Deep Sea Creature-Mastodon</td>\n",
       "    </tr>\n",
       "    <tr>\n",
       "      <th>1</th>\n",
       "      <td>1</td>\n",
       "      <td>SOEFTHD12A8C13EC47</td>\n",
       "      <td>alternative metal american groove metal heavy ...</td>\n",
       "      <td>Megalodon-Mastodon</td>\n",
       "    </tr>\n",
       "    <tr>\n",
       "      <th>2</th>\n",
       "      <td>2</td>\n",
       "      <td>SOHHANU12A58A77C66</td>\n",
       "      <td>alternative metal american groove metal heavy ...</td>\n",
       "      <td>The Czar: Usurper/Escape/Martyr/Spiral (Album ...</td>\n",
       "    </tr>\n",
       "    <tr>\n",
       "      <th>3</th>\n",
       "      <td>3</td>\n",
       "      <td>SODYZIU12A8C13FBD9</td>\n",
       "      <td>alternative metal american groove metal heavy ...</td>\n",
       "      <td>Shadows That Move-Mastodon</td>\n",
       "    </tr>\n",
       "    <tr>\n",
       "      <th>4</th>\n",
       "      <td>4</td>\n",
       "      <td>SODPNJR12A6D4FA52D</td>\n",
       "      <td>brazilian brazilian classics player south amer...</td>\n",
       "      <td>Segredo-João Gilberto</td>\n",
       "    </tr>\n",
       "  </tbody>\n",
       "</table>\n",
       "</div>"
      ],
      "text/plain": [
       "   field1             song_id  \\\n",
       "0       0  SOVLGJY12A8C13FBED   \n",
       "1       1  SOEFTHD12A8C13EC47   \n",
       "2       2  SOHHANU12A58A77C66   \n",
       "3       3  SODYZIU12A8C13FBD9   \n",
       "4       4  SODPNJR12A6D4FA52D   \n",
       "\n",
       "                                               mbtag  \\\n",
       "0  alternative metal american groove metal heavy ...   \n",
       "1  alternative metal american groove metal heavy ...   \n",
       "2  alternative metal american groove metal heavy ...   \n",
       "3  alternative metal american groove metal heavy ...   \n",
       "4  brazilian brazilian classics player south amer...   \n",
       "\n",
       "                                                song  \n",
       "0                         Deep Sea Creature-Mastodon  \n",
       "1                                 Megalodon-Mastodon  \n",
       "2  The Czar: Usurper/Escape/Martyr/Spiral (Album ...  \n",
       "3                         Shadows That Move-Mastodon  \n",
       "4                              Segredo-João Gilberto  "
      ]
     },
     "execution_count": 24,
     "metadata": {},
     "output_type": "execute_result"
    }
   ],
   "source": [
    "df_songmbtags.head()"
   ]
  },
  {
   "cell_type": "markdown",
   "metadata": {},
   "source": [
    "### Remove irrelevent columns "
   ]
  },
  {
   "cell_type": "code",
   "execution_count": 25,
   "metadata": {},
   "outputs": [],
   "source": [
    "df = df_songmbtags.drop(['song_id','field1'], axis=1)\n"
   ]
  },
  {
   "cell_type": "code",
   "execution_count": 26,
   "metadata": {},
   "outputs": [],
   "source": [
    "df.set_index('song', inplace=True)"
   ]
  },
  {
   "cell_type": "code",
   "execution_count": 29,
   "metadata": {},
   "outputs": [
    {
     "data": {
      "text/html": [
       "<div>\n",
       "<style scoped>\n",
       "    .dataframe tbody tr th:only-of-type {\n",
       "        vertical-align: middle;\n",
       "    }\n",
       "\n",
       "    .dataframe tbody tr th {\n",
       "        vertical-align: top;\n",
       "    }\n",
       "\n",
       "    .dataframe thead th {\n",
       "        text-align: right;\n",
       "    }\n",
       "</style>\n",
       "<table border=\"1\" class=\"dataframe\">\n",
       "  <thead>\n",
       "    <tr style=\"text-align: right;\">\n",
       "      <th></th>\n",
       "      <th>mbtag</th>\n",
       "    </tr>\n",
       "    <tr>\n",
       "      <th>song</th>\n",
       "      <th></th>\n",
       "    </tr>\n",
       "  </thead>\n",
       "  <tbody>\n",
       "    <tr>\n",
       "      <th>Deep Sea Creature-Mastodon</th>\n",
       "      <td>alternative metal american groove metal heavy ...</td>\n",
       "    </tr>\n",
       "    <tr>\n",
       "      <th>Megalodon-Mastodon</th>\n",
       "      <td>alternative metal american groove metal heavy ...</td>\n",
       "    </tr>\n",
       "    <tr>\n",
       "      <th>The Czar: Usurper/Escape/Martyr/Spiral (Album Version)-Mastodon</th>\n",
       "      <td>alternative metal american groove metal heavy ...</td>\n",
       "    </tr>\n",
       "    <tr>\n",
       "      <th>Shadows That Move-Mastodon</th>\n",
       "      <td>alternative metal american groove metal heavy ...</td>\n",
       "    </tr>\n",
       "    <tr>\n",
       "      <th>Segredo-João Gilberto</th>\n",
       "      <td>brazilian brazilian classics player south amer...</td>\n",
       "    </tr>\n",
       "    <tr>\n",
       "      <th>Cordeiro De Nana-João Gilberto / Gilberto Gil / Caetano Veloso</th>\n",
       "      <td>brazilian brazilian classics player south amer...</td>\n",
       "    </tr>\n",
       "    <tr>\n",
       "      <th>Meditacao-João Gilberto</th>\n",
       "      <td>brazilian brazilian classics player south amer...</td>\n",
       "    </tr>\n",
       "    <tr>\n",
       "      <th>Eu E Meu Coracao-João Gilberto</th>\n",
       "      <td>brazilian brazilian classics player south amer...</td>\n",
       "    </tr>\n",
       "    <tr>\n",
       "      <th>Samba De Una Nota So´-Joa~o Gilberto</th>\n",
       "      <td>brazilian brazilian classics player south amer...</td>\n",
       "    </tr>\n",
       "    <tr>\n",
       "      <th>Manhã de Carnaval (Morning of the Carnaval) (Cantando As Músicas do Film Orfeo do Carnaval)-João Gilberto</th>\n",
       "      <td>brazilian brazilian classics player south amer...</td>\n",
       "    </tr>\n",
       "    <tr>\n",
       "      <th>Sajana (Ft Faheem Mazhar)-Niraj Chag</th>\n",
       "      <td>desi</td>\n",
       "    </tr>\n",
       "    <tr>\n",
       "      <th>Eeshwar-Niraj Chag</th>\n",
       "      <td>desi</td>\n",
       "    </tr>\n",
       "    <tr>\n",
       "      <th>The Carnival  feat. Japjit Kaur-Niraj Chag</th>\n",
       "      <td>desi</td>\n",
       "    </tr>\n",
       "    <tr>\n",
       "      <th>Theresa-Portable</th>\n",
       "      <td>south african</td>\n",
       "    </tr>\n",
       "    <tr>\n",
       "      <th>Don't Give Up-Portable</th>\n",
       "      <td>south african</td>\n",
       "    </tr>\n",
       "    <tr>\n",
       "      <th>Story Of An Artist (Don't Be Scared)-Daniel Johnston</th>\n",
       "      <td>dance and electronica</td>\n",
       "    </tr>\n",
       "    <tr>\n",
       "      <th>Desperate Man Blues-Daniel Johnston</th>\n",
       "      <td>dance and electronica</td>\n",
       "    </tr>\n",
       "    <tr>\n",
       "      <th>Rock Around The Christmas Tree-Daniel Johnston</th>\n",
       "      <td>dance and electronica</td>\n",
       "    </tr>\n",
       "    <tr>\n",
       "      <th>Come To Me Tonight-Daniel Johnston</th>\n",
       "      <td>dance and electronica</td>\n",
       "    </tr>\n",
       "    <tr>\n",
       "      <th>To Go Home-Daniel Johnston</th>\n",
       "      <td>dance and electronica</td>\n",
       "    </tr>\n",
       "    <tr>\n",
       "      <th>Oh No-Daniel Johnston</th>\n",
       "      <td>dance and electronica</td>\n",
       "    </tr>\n",
       "    <tr>\n",
       "      <th>High Horse-Daniel Johnston</th>\n",
       "      <td>dance and electronica</td>\n",
       "    </tr>\n",
       "  </tbody>\n",
       "</table>\n",
       "</div>"
      ],
      "text/plain": [
       "                                                                                                mbtag\n",
       "song                                                                                                 \n",
       "Deep Sea Creature-Mastodon                          alternative metal american groove metal heavy ...\n",
       "Megalodon-Mastodon                                  alternative metal american groove metal heavy ...\n",
       "The Czar: Usurper/Escape/Martyr/Spiral (Album V...  alternative metal american groove metal heavy ...\n",
       "Shadows That Move-Mastodon                          alternative metal american groove metal heavy ...\n",
       "Segredo-João Gilberto                               brazilian brazilian classics player south amer...\n",
       "Cordeiro De Nana-João Gilberto / Gilberto Gil /...  brazilian brazilian classics player south amer...\n",
       "Meditacao-João Gilberto                             brazilian brazilian classics player south amer...\n",
       "Eu E Meu Coracao-João Gilberto                      brazilian brazilian classics player south amer...\n",
       "Samba De Una Nota So´-Joa~o Gilberto                brazilian brazilian classics player south amer...\n",
       "Manhã de Carnaval (Morning of the Carnaval) (Ca...  brazilian brazilian classics player south amer...\n",
       "Sajana (Ft Faheem Mazhar)-Niraj Chag                                                             desi\n",
       "Eeshwar-Niraj Chag                                                                               desi\n",
       "The Carnival  feat. Japjit Kaur-Niraj Chag                                                       desi\n",
       "Theresa-Portable                                                                        south african\n",
       "Don't Give Up-Portable                                                                  south african\n",
       "Story Of An Artist (Don't Be Scared)-Daniel Joh...                              dance and electronica\n",
       "Desperate Man Blues-Daniel Johnston                                             dance and electronica\n",
       "Rock Around The Christmas Tree-Daniel Johnston                                  dance and electronica\n",
       "Come To Me Tonight-Daniel Johnston                                              dance and electronica\n",
       "To Go Home-Daniel Johnston                                                      dance and electronica\n",
       "Oh No-Daniel Johnston                                                           dance and electronica\n",
       "High Horse-Daniel Johnston                                                      dance and electronica"
      ]
     },
     "execution_count": 29,
     "metadata": {},
     "output_type": "execute_result"
    }
   ],
   "source": [
    "df.head(22)"
   ]
  },
  {
   "cell_type": "code",
   "execution_count": null,
   "metadata": {},
   "outputs": [],
   "source": [
    "### Create an instance of the content_rec "
   ]
  },
  {
   "cell_type": "code",
   "execution_count": 43,
   "metadata": {},
   "outputs": [],
   "source": [
    "cb_model = Recommenders.content_rec()"
   ]
  },
  {
   "cell_type": "code",
   "execution_count": 44,
   "metadata": {},
   "outputs": [],
   "source": [
    "cb_model.create(df)"
   ]
  },
  {
   "cell_type": "code",
   "execution_count": 45,
   "metadata": {},
   "outputs": [],
   "source": [
    "song = songs[10]"
   ]
  },
  {
   "cell_type": "code",
   "execution_count": 46,
   "metadata": {},
   "outputs": [
    {
     "data": {
      "text/plain": [
       "'Unforgettable Season-Cut Copy'"
      ]
     },
     "execution_count": 46,
     "metadata": {},
     "output_type": "execute_result"
    }
   ],
   "source": [
    "song"
   ]
  },
  {
   "cell_type": "markdown",
   "metadata": {},
   "source": [
    "### Recommend songs similar to the song"
   ]
  },
  {
   "cell_type": "code",
   "execution_count": 47,
   "metadata": {},
   "outputs": [
    {
     "data": {
      "text/html": [
       "<div>\n",
       "<style scoped>\n",
       "    .dataframe tbody tr th:only-of-type {\n",
       "        vertical-align: middle;\n",
       "    }\n",
       "\n",
       "    .dataframe tbody tr th {\n",
       "        vertical-align: top;\n",
       "    }\n",
       "\n",
       "    .dataframe thead th {\n",
       "        text-align: right;\n",
       "    }\n",
       "</style>\n",
       "<table border=\"1\" class=\"dataframe\">\n",
       "  <thead>\n",
       "    <tr style=\"text-align: right;\">\n",
       "      <th></th>\n",
       "      <th>song</th>\n",
       "    </tr>\n",
       "  </thead>\n",
       "  <tbody>\n",
       "    <tr>\n",
       "      <th>0</th>\n",
       "      <td>It Is Us-Mudhoney</td>\n",
       "    </tr>\n",
       "    <tr>\n",
       "      <th>1</th>\n",
       "      <td>Beneath The Valley Of The Underdog (Album Vers...</td>\n",
       "    </tr>\n",
       "    <tr>\n",
       "      <th>2</th>\n",
       "      <td>New Meaning-Mudhoney</td>\n",
       "    </tr>\n",
       "    <tr>\n",
       "      <th>3</th>\n",
       "      <td>The Money Will Roll Right In-Mudhoney</td>\n",
       "    </tr>\n",
       "    <tr>\n",
       "      <th>4</th>\n",
       "      <td>Between Me &amp; You Kid (Album Version)-Mudhoney</td>\n",
       "    </tr>\n",
       "    <tr>\n",
       "      <th>5</th>\n",
       "      <td>All The Rage (Clean Album Version)-Funeral For...</td>\n",
       "    </tr>\n",
       "    <tr>\n",
       "      <th>6</th>\n",
       "      <td>Juneau [Live]-Funeral For A Friend</td>\n",
       "    </tr>\n",
       "    <tr>\n",
       "      <th>7</th>\n",
       "      <td>When Tomorrow Hits (Album)-Mudhoney</td>\n",
       "    </tr>\n",
       "    <tr>\n",
       "      <th>8</th>\n",
       "      <td>Been There All The Time-Dinosaur Jr.</td>\n",
       "    </tr>\n",
       "    <tr>\n",
       "      <th>9</th>\n",
       "      <td>Tic-Helmet</td>\n",
       "    </tr>\n",
       "  </tbody>\n",
       "</table>\n",
       "</div>"
      ],
      "text/plain": [
       "                                                song\n",
       "0                                  It Is Us-Mudhoney\n",
       "1  Beneath The Valley Of The Underdog (Album Vers...\n",
       "2                               New Meaning-Mudhoney\n",
       "3              The Money Will Roll Right In-Mudhoney\n",
       "4      Between Me & You Kid (Album Version)-Mudhoney\n",
       "5  All The Rage (Clean Album Version)-Funeral For...\n",
       "6                 Juneau [Live]-Funeral For A Friend\n",
       "7                When Tomorrow Hits (Album)-Mudhoney\n",
       "8               Been There All The Time-Dinosaur Jr.\n",
       "9                                         Tic-Helmet"
      ]
     },
     "execution_count": 47,
     "metadata": {},
     "output_type": "execute_result"
    }
   ],
   "source": [
    "cb_model.recommend(song)"
   ]
  },
  {
   "cell_type": "code",
   "execution_count": null,
   "metadata": {},
   "outputs": [],
   "source": []
  }
 ],
 "metadata": {
  "kernelspec": {
   "display_name": "Python 3.6.4 64-bit ('David': virtualenv)",
   "language": "python",
   "name": "python36464bitdavidvirtualenv6dd23ed7d4a8409ab0c56d73419f5bbd"
  },
  "language_info": {
   "codemirror_mode": {
    "name": "ipython",
    "version": 3
   },
   "file_extension": ".py",
   "mimetype": "text/x-python",
   "name": "python",
   "nbconvert_exporter": "python",
   "pygments_lexer": "ipython3",
   "version": "3.6.4"
  }
 },
 "nbformat": 4,
 "nbformat_minor": 2
}
